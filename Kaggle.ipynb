{
 "cells": [
  {
   "cell_type": "markdown",
   "id": "fa5d699c",
   "metadata": {},
   "source": [
    "# Cas Kaggle"
   ]
  },
  {
   "cell_type": "markdown",
   "id": "fd48cd71",
   "metadata": {},
   "source": [
    "Josep Maria Domingo Catafal, NIU: 1599946"
   ]
  },
  {
   "cell_type": "markdown",
   "id": "25a3ca67",
   "metadata": {},
   "source": [
    "## Introducció"
   ]
  },
  {
   "cell_type": "markdown",
   "id": "1155f910",
   "metadata": {},
   "source": [
    "## Anàlisi del dataset"
   ]
  },
  {
   "cell_type": "markdown",
   "id": "0b70c68f",
   "metadata": {},
   "source": [
    "## Aplicació de diversos mètodes d'aprenentatge"
   ]
  },
  {
   "cell_type": "markdown",
   "id": "c1a9e48c",
   "metadata": {},
   "source": [
    "## Visualització i presentació dels resultats"
   ]
  }
 ],
 "metadata": {
  "kernelspec": {
   "display_name": "Python 3 (ipykernel)",
   "language": "python",
   "name": "python3"
  },
  "language_info": {
   "codemirror_mode": {
    "name": "ipython",
    "version": 3
   },
   "file_extension": ".py",
   "mimetype": "text/x-python",
   "name": "python",
   "nbconvert_exporter": "python",
   "pygments_lexer": "ipython3",
   "version": "3.9.7"
  }
 },
 "nbformat": 4,
 "nbformat_minor": 5
}
